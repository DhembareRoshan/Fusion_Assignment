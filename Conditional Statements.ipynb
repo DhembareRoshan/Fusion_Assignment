{
 "cells": [
  {
   "cell_type": "markdown",
   "id": "92ffca7c-d842-496a-b19b-5a23be8a8648",
   "metadata": {},
   "source": [
    "# * THEORY QUESTIONS *"
   ]
  },
  {
   "cell_type": "markdown",
   "id": "eea77d58-31bc-4d9f-a1a2-46a22c5b50ef",
   "metadata": {},
   "source": [
    "## 1. What is the purpose of conditional statements in Python?\n",
    "- Conditional statements in Python are used to make decisions in your code. They allow your program to choose different paths of execution depending on whether certain conditions are True or False."
   ]
  },
  {
   "cell_type": "markdown",
   "id": "34e7dfeb-7dcd-47cb-97df-6453fb2a9500",
   "metadata": {},
   "source": [
    "## 2. Explain the syntax and flow of an if-elif-else block."
   ]
  },
  {
   "cell_type": "code",
   "execution_count": 4,
   "id": "5da1f7c9-d39c-411f-a00a-294f7f8b52d6",
   "metadata": {},
   "outputs": [],
   "source": [
    "''' \n",
    "Syntax of if-elif-else\n",
    "  if [condition]:\n",
    "      if block of code\n",
    "  elif [condition]:\n",
    "      elif block of code\n",
    "  else:\n",
    "      else block of code \n",
    "'''\n",
    "a=1"
   ]
  },
  {
   "cell_type": "markdown",
   "id": "ce90bd47-c458-46bb-98e5-dee7869cc952",
   "metadata": {},
   "source": [
    "- In above syntaxt the flow of code is like this\n",
    "- first if goes to 'if' condition...if the condition of 'if' is True only then 'if' block of code executed and if condition is false it goes for 'elif' blcok\n",
    "- if the 'elif' condition is true  then 'elif' block of code executed and if 'elif' condition is false it check of next 'elif' block..\n",
    "- if neither 'if' nor 'elif' condition is true only then else block of code execute"
   ]
  },
  {
   "cell_type": "markdown",
   "id": "405da2e8-7fba-41d5-95e3-a542ef7a0be2",
   "metadata": {},
   "source": [
    "## 3. What is the difference between = and == in Python?\n",
    "- In python we use '=' sign of assign value to variable\n",
    "- and we use '==' this sign to compare two things are same/equal or not..the output will return in boolean type"
   ]
  },
  {
   "cell_type": "code",
   "execution_count": 6,
   "id": "73156d81-419d-4b41-a0fd-b9b9f403aef1",
   "metadata": {},
   "outputs": [
    {
     "data": {
      "text/plain": [
       "True"
      ]
     },
     "execution_count": 6,
     "metadata": {},
     "output_type": "execute_result"
    }
   ],
   "source": [
    "a = 10 #here we assign value 10 to that variable\n",
    "b = 10\n",
    "a == b #here we compare a ang b if both are equal or not"
   ]
  },
  {
   "cell_type": "markdown",
   "id": "83916327-5ea1-4082-a655-fd8531191ac3",
   "metadata": {},
   "source": [
    "## 4. Describe the difference between if-else and nested if statements.\n",
    "- if-else is conditional statement.if condition is ture execute 'if' block otherwise execute 'else' block\n",
    "- but in nested if we define if-else inside if-else.\n",
    "- if we have one condition and based on that condition the another condition excute in that time we use nested-if"
   ]
  },
  {
   "cell_type": "code",
   "execution_count": 9,
   "id": "188734b8-13d5-4af7-8ca2-1bea8b89abbc",
   "metadata": {},
   "outputs": [
    {
     "name": "stdout",
     "output_type": "stream",
     "text": [
      "10 is less than 10\n"
     ]
    },
    {
     "data": {
      "text/plain": [
       "[12, 22, 24]"
      ]
     },
     "execution_count": 9,
     "metadata": {},
     "output_type": "execute_result"
    }
   ],
   "source": [
    "# problem print those even number which is greater than 10\n",
    "lst=[12,3,22,10,1,11,24]\n",
    "even=[]\n",
    "for a in lst:\n",
    "    if a%2==0: #fist we check even\n",
    "        if a > 10:  #inside if check if no greater than 10\n",
    "            even.append(a)\n",
    "        else:\n",
    "            print(f\"{a} is less than 10\")\n",
    "even"
   ]
  },
  {
   "cell_type": "markdown",
   "id": "71f9f9f3-4f88-46de-bab7-29b8d1f1c2b8",
   "metadata": {},
   "source": [
    "## 5. What are logical operators in Python? Explain and, or, and not with examples.\n",
    "- logical operator are use for compare mulitple conditions. \n",
    "- returns boolean output\n",
    "- and => output is true if all condition is true\n",
    "- or  => output is true if one of condition is true\n",
    "- not => reverse the output"
   ]
  },
  {
   "cell_type": "code",
   "execution_count": 12,
   "id": "33c0cbd5-b86f-4e21-baee-2c307c4b2d04",
   "metadata": {},
   "outputs": [
    {
     "name": "stdout",
     "output_type": "stream",
     "text": [
      "Number are not identical\n"
     ]
    }
   ],
   "source": [
    "## and  (&)\n",
    "#    - True   True  True  = True\n",
    "#    - if all condition is true then output is true\n",
    "a = 12\n",
    "b = 12\n",
    "c = 13\n",
    "if a == b & b == c:\n",
    "    print('All number are identical')\n",
    "else:\n",
    "    print('Number are not identical')\n",
    "# here we first condition output is 'True' and second condition is 'false' then for 'and' output come 'False'          "
   ]
  },
  {
   "cell_type": "code",
   "execution_count": 13,
   "id": "0818c099-2029-4808-9e7f-0c63c8fe0664",
   "metadata": {},
   "outputs": [
    {
     "name": "stdout",
     "output_type": "stream",
     "text": [
      "Number are not identical\n"
     ]
    }
   ],
   "source": [
    "## or  (|)\n",
    "# - True    True   False = True\n",
    "# - if one of condition is true overall condition is True\n",
    "a = 12\n",
    "b = 12\n",
    "c = 13\n",
    "if a == b | b == c :\n",
    "    print(\"All number are identical\")\n",
    "else:\n",
    "    print('Number are not identical')\n",
    "\n",
    "# here 'first' condition output is 'true' and 'second' condition output is 'false' because of 'or' we need only one condition to be true \n",
    "# that's reason we get output is 'true'"
   ]
  },
  {
   "cell_type": "code",
   "execution_count": 14,
   "id": "75bbd9dd-8949-443c-8197-0764d85ed5ac",
   "metadata": {},
   "outputs": [
    {
     "name": "stdout",
     "output_type": "stream",
     "text": [
      "Number are  identical\n"
     ]
    }
   ],
   "source": [
    "## not  (!)\n",
    "# - reverse the output of condition \n",
    "a = 12\n",
    "b = 12\n",
    "if a != b:\n",
    "    print(\"Number are not identical\")\n",
    "else:\n",
    "    print('Number are  identical')"
   ]
  },
  {
   "cell_type": "markdown",
   "id": "e6281ebb-ebaf-430f-9eea-a39194c07a6a",
   "metadata": {},
   "source": [
    "## 6. Can we use multiple elif statements in a condition? If yes, how?\n",
    "- Yes. We can use multiple elif statements'\n",
    "- Python checks the conditions in order from top to bottom.\n",
    "- As soon as it finds the first condition that's True, it executes that block and skips the rest.\n",
    "- The else is optional, and it runs only if none of the if or elif conditions are true."
   ]
  },
  {
   "cell_type": "markdown",
   "id": "321cc694-60c3-4451-8a84-439be7215dc9",
   "metadata": {},
   "source": [
    "## 7. What happens if all conditions in an if-elif-else chain are false?\n",
    "- if all conditions in an if-elif chain are false..then else block of code executed."
   ]
  },
  {
   "cell_type": "code",
   "execution_count": 15,
   "id": "b15c9041-95ab-4c74-b649-7fde0b4edc8d",
   "metadata": {},
   "outputs": [
    {
     "name": "stdout",
     "output_type": "stream",
     "text": [
      "Zero\n"
     ]
    }
   ],
   "source": [
    "a = 0\n",
    "if a>0: #this condition is false\n",
    "    print(\"Positive NO\")\n",
    "elif a<0: #This condition is also false\n",
    "    print(\"Negative No\")\n",
    "else: #then else block of code executed\n",
    "    print(\"Zero\")"
   ]
  },
  {
   "cell_type": "markdown",
   "id": "caacdf3a-33e4-42fc-a5fe-057a4427cbd8",
   "metadata": {},
   "source": [
    "## 8. How does Python evaluate a compound condition like if x > 5 and y < 10:?\n",
    "- Using condition statement python evaluated this compund condition\n"
   ]
  },
  {
   "cell_type": "code",
   "execution_count": 17,
   "id": "e3408e8d-d4d2-429a-966f-afb6bf6a024f",
   "metadata": {},
   "outputs": [
    {
     "name": "stdout",
     "output_type": "stream",
     "text": [
      "Compound condition evaluate\n"
     ]
    }
   ],
   "source": [
    "x = 6\n",
    "y = 6\n",
    "if (x>5 and y<10):\n",
    "    print(\"Compound condition evaluate\")"
   ]
  },
  {
   "cell_type": "markdown",
   "id": "879a0da8-af8c-467a-90fe-1d1bf79b5ff8",
   "metadata": {},
   "source": [
    "## 9. Can an else statement be used without if? Why or why not?\n",
    "-  else statement never execute without if statement..it gives us error\n",
    "- the reason is that else statement exactly opposite of if block..if condition is false in 'if' then 'else' block execute.\n",
    "- to go toward else we need if to check condition if there is no if the how we know conditon ouput of if...and if we don't know the output then how we define opposite of 'if' for execute 'else' statement."
   ]
  },
  {
   "cell_type": "markdown",
   "id": "25652732-54f5-4614-9fd7-26be34025642",
   "metadata": {},
   "source": [
    "## 10. Describe a real-life scenario where nested if statements would be useful.\n",
    "- When you try to withdraw money from an ATM, the machine goes through a series of checks:\n",
    "- If the card is active, is the PIN correct?\n",
    "If the PIN is incorrect, it shows an error and doesn't move forward.\n",
    "- If the PIN is correct, is there enough money in the account?\n",
    "If there is, the withdrawal goes through. If not, it shows an \"insufficient funds\" message.\n"
   ]
  },
  {
   "cell_type": "markdown",
   "id": "8c722e02-f2d2-49fc-beec-6394bd3fa531",
   "metadata": {},
   "source": [
    "# * PRACTICAL QUESTIONS *"
   ]
  },
  {
   "cell_type": "markdown",
   "id": "ef53a132-4d5b-4dfa-8ba1-fd82d3c0b81a",
   "metadata": {},
   "source": [
    "## 1. Electricity Bill Calculator\n",
    "Accept the number of electricity units consumed and calculate the bill as per:\n",
    "- First 100 units: ₹1.5/unit\n",
    "- Next 100 units (101–200): ₹2/unit\n",
    "- Above 200 units: ₹3/unit"
   ]
  },
  {
   "cell_type": "code",
   "execution_count": 22,
   "id": "e2f260f0-53d0-4078-88ae-c2c5ec3d5a72",
   "metadata": {},
   "outputs": [
    {
     "name": "stdin",
     "output_type": "stream",
     "text": [
      "Enter Electicity Units :  1000\n"
     ]
    },
    {
     "name": "stdout",
     "output_type": "stream",
     "text": [
      "Total Bill is 2750\n"
     ]
    }
   ],
   "source": [
    "units = int(input(\"Enter Electicity Units : \"))\n",
    "if units <=100:\n",
    "    print(f\"Total Bill is {units*1.5}\")\n",
    "elif units <= 200:\n",
    "    next_unit = units-100\n",
    "    print(f'Total Bill is {(next_unit*2) + 150}')  #here 150 is for first 100 units price\n",
    "else:\n",
    "    third_unit = units-200\n",
    "    print(f'Total Bill is {(third_unit * 3) + 350}')  #here for first 200 unit price is 350 ..150 for first 100 and 200 for 100 to 200"
   ]
  },
  {
   "cell_type": "markdown",
   "id": "5259a806-16ef-4567-adeb-ffa2c4efd72b",
   "metadata": {},
   "source": [
    "## 2. Loan Eligibility Checker\n",
    "Take the user’s age, annual income, and employment status (Employed/Unemployed). Approve the loan only if:\n",
    "- Age > 21\n",
    "- Income > ₹3,00,000\n",
    "- Employment status is \"Employed\""
   ]
  },
  {
   "cell_type": "code",
   "execution_count": 24,
   "id": "d29f3a08-8c30-4f74-9ee1-c939bcfdf06a",
   "metadata": {},
   "outputs": [
    {
     "name": "stdin",
     "output_type": "stream",
     "text": [
      "Enter Employee Age:  12\n",
      "Enter Annual Income:  4323223\n",
      "Are You Employed ? Enter True Or False :  True\n"
     ]
    },
    {
     "name": "stdout",
     "output_type": "stream",
     "text": [
      "Your loan is not approved\n"
     ]
    }
   ],
   "source": [
    "age = int(input(\"Enter Employee Age: \"))\n",
    "Income = int(input(\"Enter Annual Income: \"))\n",
    "Is_Employed=bool(input(\"Are You Employed ? Enter True Or False : \"))\n",
    "\n",
    "if age>21 and Income>300000 and Is_Employed:\n",
    "    print(\"Your loan is approved\")\n",
    "else:\n",
    "    print(\"Your loan is not approved\")"
   ]
  },
  {
   "cell_type": "markdown",
   "id": "1c47ae1f-7462-4829-91d5-4d483ec2117f",
   "metadata": {},
   "source": [
    "## 3. BMI Category Calculator\n",
    "Ask for height (m) and weight (kg), calculate BMI and categorize:\n",
    "- < 18.5: Underweight\n",
    "- 18.5–24.9: Normal\n",
    "- 25–29.9: Overweight\n",
    "- 30+: Obese"
   ]
  },
  {
   "cell_type": "code",
   "execution_count": null,
   "id": "cfce2c4f-c705-495c-baf0-71e0d4ba7038",
   "metadata": {},
   "outputs": [],
   "source": [
    "height = int(input(\"What is Your height in (m) : \"))\n",
    "weight = int(input(\"What is Your weight in (kg) : \"))\n"
   ]
  },
  {
   "cell_type": "markdown",
   "id": "c027fe8b-fdc8-4770-8a5b-2b0eb8bfa6b0",
   "metadata": {},
   "source": [
    "## 4. Nested Discount Calculator\n",
    "Take a product price and check:\n",
    "- If price > 5000, apply 20% discount\n",
    "- If price between 2000 and 5000, apply 10% discount\n",
    "- Else, apply 5% discount"
   ]
  },
  {
   "cell_type": "code",
   "execution_count": 34,
   "id": "780317e5-cda5-4f24-9739-9ecf62865b69",
   "metadata": {},
   "outputs": [
    {
     "name": "stdin",
     "output_type": "stream",
     "text": [
      "Enter product price :  10000\n"
     ]
    },
    {
     "name": "stdout",
     "output_type": "stream",
     "text": [
      "You got 20% discount..Total Amount is 8000.0\n"
     ]
    }
   ],
   "source": [
    "product_price = int(input(\"Enter product price : \"))\n",
    "if product_price > 5000:\n",
    "    print(f'You got 20% discount..Total Amount is {product_price-(product_price*0.2)}')\n",
    "elif product_price >=2000 and product_price<=5000:\n",
    "    print(f'You got 10% discount..Total Amount is {product_price-(product_price*0.1)}')\n",
    "else:\n",
    "    print(f'You got 5% discount..Total Amount is {product_price-(product_price*0.05)}')"
   ]
  },
  {
   "cell_type": "markdown",
   "id": "09f1e85e-0acb-441f-9aa0-78036dd3d3d2",
   "metadata": {},
   "source": [
    "## 5. Grade and Behavior Checker\n",
    "Accept academic grade (A-F) and behavior rating (Good/Bad). Grant scholarship only if grade is A or B and behavior is Good."
   ]
  },
  {
   "cell_type": "code",
   "execution_count": 42,
   "id": "75a55a70-7ca1-4674-98f1-c55dcfae608a",
   "metadata": {},
   "outputs": [
    {
     "name": "stdin",
     "output_type": "stream",
     "text": [
      "Enter Academic Grade A-F:  B\n",
      "Enter Behavior Good/Bad:  bad\n"
     ]
    },
    {
     "name": "stdout",
     "output_type": "stream",
     "text": [
      "Scholarship Not Granted\n"
     ]
    }
   ],
   "source": [
    "grade = input(\"Enter Academic Grade A-F: \")\n",
    "behavior=input(\"Enter Behavior Good/Bad: \")\n",
    "if grade=='A' or grade=='B' and behavior.lower() == 'good':\n",
    "    print(\"Scholarship Granted\")\n",
    "else:\n",
    "    print(\"Scholarship Not Granted\")"
   ]
  },
  {
   "cell_type": "markdown",
   "id": "de059716-c86f-4aa6-b967-683eccca73f5",
   "metadata": {},
   "source": [
    "## 6. Age Group Classifier with Gender\n",
    "Input age and gender. Output:\n",
    "- “Boy”/“Girl” if age < 18\n",
    "- “Man”/“Woman” if age >= 18"
   ]
  },
  {
   "cell_type": "code",
   "execution_count": 48,
   "id": "6821adaa-f3cf-42cb-9ea9-7d0e7d49107a",
   "metadata": {},
   "outputs": [
    {
     "name": "stdin",
     "output_type": "stream",
     "text": [
      "Enter Age :  12\n",
      "Enter gender male/female :  female\n"
     ]
    },
    {
     "name": "stdout",
     "output_type": "stream",
     "text": [
      "Girl\n"
     ]
    }
   ],
   "source": [
    "age = int(input(\"Enter Age : \"))\n",
    "gender = input(\"Enter gender male/female : \")\n",
    "if gender.lower()== 'male':\n",
    "    if age<18:\n",
    "        print(\"Boy\")\n",
    "    else:\n",
    "        print(\"Man\")\n",
    "else:\n",
    "    if age<18:\n",
    "        print(\"Girl\")\n",
    "    else:\n",
    "        print(\"Woman\")"
   ]
  },
  {
   "cell_type": "markdown",
   "id": "08cb8514-3922-4ccc-b3f7-e3c9a31f4a44",
   "metadata": {},
   "source": [
    "## 7. Character Case and Type Checker\n",
    "Accept a single character and determine:\n",
    "- Whether it is uppercase or lowercase"
   ]
  },
  {
   "cell_type": "code",
   "execution_count": 50,
   "id": "ccb5eaba-35bf-4e60-a4a4-cf5139d5b171",
   "metadata": {},
   "outputs": [
    {
     "name": "stdin",
     "output_type": "stream",
     "text": [
      "Enter character:  C\n"
     ]
    },
    {
     "name": "stdout",
     "output_type": "stream",
     "text": [
      "Character is in uppercase\n"
     ]
    }
   ],
   "source": [
    "char=input(\"Enter character: \")\n",
    "if char == char.lower():\n",
    "    print(\"Character is in lowercase\")\n",
    "else:\n",
    "    print(\"Character is in uppercase\")"
   ]
  },
  {
   "cell_type": "markdown",
   "id": "566840d0-5021-4f2f-aacf-62511345495b",
   "metadata": {},
   "source": [
    "## 8. Weekday Name Based on Number\n",
    "Accept a number (1–7) and print the corresponding day of the week. If the number is out of range, print “Invalid input.”"
   ]
  },
  {
   "cell_type": "code",
   "execution_count": 61,
   "id": "5a3474fc-ef4c-43ab-b718-02b6c1cb662a",
   "metadata": {},
   "outputs": [
    {
     "name": "stdin",
     "output_type": "stream",
     "text": [
      "Enter Number between 1 to 7 :  4\n"
     ]
    },
    {
     "name": "stdout",
     "output_type": "stream",
     "text": [
      "Thursday\n"
     ]
    }
   ],
   "source": [
    "num = int(input(\"Enter Number between 1 to 7 : \"))\n",
    "if num==1:\n",
    "    print(\"Monday\")\n",
    "elif num==2:\n",
    "    print(\"Tuesday\")\n",
    "elif num==3:\n",
    "    print(\"Wednesday\")\n",
    "elif num==4:\n",
    "    print(\"Thursday\")\n",
    "elif num==5:\n",
    "    print(\"Friday\")\n",
    "elif num==6:\n",
    "    print(\"Saturday\")\n",
    "elif num==7:\n",
    "    print(\"Sunday\")\n",
    "else:\n",
    "    print(\"Invalid Input\")"
   ]
  },
  {
   "cell_type": "markdown",
   "id": "afba0ec6-a4ad-45aa-bfe8-e08655380447",
   "metadata": {},
   "source": [
    "## 9. Voting Eligibility with ID Check\n",
    "Ask for age and voter ID status. Allow voting only if age ≥ 18 and voter ID is “Yes”."
   ]
  },
  {
   "cell_type": "code",
   "execution_count": 66,
   "id": "f19307af-9f7d-4088-b4cc-9d5969067d9b",
   "metadata": {},
   "outputs": [
    {
     "name": "stdin",
     "output_type": "stream",
     "text": [
      "Enter Your Age:  34\n",
      "Enter Voter Id Status Yes/NO :  no\n"
     ]
    },
    {
     "name": "stdout",
     "output_type": "stream",
     "text": [
      "Not eligible\n"
     ]
    }
   ],
   "source": [
    "age = int(input(\"Enter Your Age: \"))\n",
    "voter_id_status = input(\"Enter Voter Id Status Yes/NO : \")\n",
    "if age>=18 and voter_id_status.lower()=='yes':\n",
    "    print(\"Do Vote\")\n",
    "else:\n",
    "    print(\"Not eligible\")"
   ]
  },
  {
   "cell_type": "code",
   "execution_count": null,
   "id": "337d8127-39bc-4cc7-8e9b-ffdc3e1dad1e",
   "metadata": {},
   "outputs": [],
   "source": []
  }
 ],
 "metadata": {
  "kernelspec": {
   "display_name": "Python 3 (ipykernel)",
   "language": "python",
   "name": "python3"
  },
  "language_info": {
   "codemirror_mode": {
    "name": "ipython",
    "version": 3
   },
   "file_extension": ".py",
   "mimetype": "text/x-python",
   "name": "python",
   "nbconvert_exporter": "python",
   "pygments_lexer": "ipython3",
   "version": "3.11.7"
  }
 },
 "nbformat": 4,
 "nbformat_minor": 5
}
