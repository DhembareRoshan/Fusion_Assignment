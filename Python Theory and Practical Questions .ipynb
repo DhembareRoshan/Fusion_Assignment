{
 "cells": [
  {
   "cell_type": "markdown",
   "id": "964ac248-6c67-4c3d-870c-16c87fd49658",
   "metadata": {},
   "source": [
    "# * THEOREY QUESTIONS *"
   ]
  },
  {
   "cell_type": "markdown",
   "id": "f68d4411-5fad-4c02-9d2d-f6c2c0ecec8d",
   "metadata": {},
   "source": [
    "## 1. What are variables in Python, and how is dynamic typing handled?\n",
    "- Variables is a name given to a memory location which we can use to get value.\n",
    "- Python has dynamic typing symantics if variable "
   ]
  },
  {
   "cell_type": "markdown",
   "id": "a05eae74-a6b0-4259-9903-34cf0f736d67",
   "metadata": {},
   "source": [
    "## 2. Explain the difference between int, float, str, and bool data types.\n",
    "- There are 4 types of data type int, float, str, bool\n",
    "- In \"int\" datatype we store numerical value (whole numbers)\n",
    "- In \"float\" datatypes we store decimal point value\n",
    "- In \"str\" datatype we store string/text type of value\n",
    "- In \"bool\" datatype we store boolean type value like True or False"
   ]
  },
  {
   "cell_type": "markdown",
   "id": "983f2584-d605-48af-b62b-381088c05d3c",
   "metadata": {},
   "source": [
    "## 3. What is the purpose of the type() function in Python?\n",
    "- type() is built-in python function we mainly used python function to find out what is datatype/data structure of perticular variable or value"
   ]
  },
  {
   "cell_type": "code",
   "execution_count": 22,
   "id": "315ac678-d369-463a-a06e-accca80ed6b6",
   "metadata": {},
   "outputs": [
    {
     "data": {
      "text/plain": [
       "int"
      ]
     },
     "execution_count": 22,
     "metadata": {},
     "output_type": "execute_result"
    }
   ],
   "source": [
    "a = 12\n",
    "type(a)"
   ]
  },
  {
   "cell_type": "markdown",
   "id": "be660308-812f-4ea4-8341-55b0ea16cc19",
   "metadata": {},
   "source": [
    "## 4.Describe how to take user input and display output in Python.\n",
    "- if we want to take input from user then we use input() function\n",
    "- if we want to print output then we use print() function "
   ]
  },
  {
   "cell_type": "code",
   "execution_count": 24,
   "id": "a8796d49-8116-4c93-8eb3-c673f568f1a7",
   "metadata": {},
   "outputs": [
    {
     "name": "stdin",
     "output_type": "stream",
     "text": [
      "What is your age:  24\n"
     ]
    },
    {
     "name": "stdout",
     "output_type": "stream",
     "text": [
      "Your age is 24\n"
     ]
    }
   ],
   "source": [
    "age = int(input(\"What is your age: \"))\n",
    "print(f\"Your age is {age}\")"
   ]
  },
  {
   "cell_type": "markdown",
   "id": "23007dd7-5468-4a32-bd11-f11fa7d001c2",
   "metadata": {},
   "source": [
    "## 5.What is string slicing? Provide an example.\n",
    "- String slicing is technique to slice the string..means to get substring"
   ]
  },
  {
   "cell_type": "code",
   "execution_count": 25,
   "id": "0510b92f-2ac4-4b1c-a498-cb3260cb6d2b",
   "metadata": {},
   "outputs": [
    {
     "name": "stdout",
     "output_type": "stream",
     "text": [
      "Pyth\n"
     ]
    }
   ],
   "source": [
    "text = 'Python Session'\n",
    "lst= [12,33,34,454,32]\n",
    "print(text[:4]) #we slice first 4 character of index start from 0 to 3"
   ]
  },
  {
   "cell_type": "markdown",
   "id": "7e6af53e-003e-4dc2-b6cc-5d62551ef0bd",
   "metadata": {},
   "source": [
    "## 6. Explain the difference between append(), insert(), and extend() in lists.\n",
    "- extend,insert and append are all data manuplation method of list\n",
    "- using that we can add value inside list\n",
    "- append(value)\n",
    "    :- add value at end of the list\n",
    "- extend()\n",
    "    :- add value at last but if we provide list add value seprate not entire list in last...if we give string each char store sepratly not entire string\n",
    "- insert(idx,value)\n",
    "    :- add value at specified position"
   ]
  },
  {
   "cell_type": "code",
   "execution_count": 26,
   "id": "4ef00993-8ada-4704-8c40-310278b8ae76",
   "metadata": {},
   "outputs": [],
   "source": [
    "lst = [\"Banana\"]"
   ]
  },
  {
   "cell_type": "code",
   "execution_count": 27,
   "id": "f38fefb6-74cc-4098-bde5-2a9e696c0f83",
   "metadata": {},
   "outputs": [
    {
     "data": {
      "text/plain": [
       "['Banana', 'Mango']"
      ]
     },
     "execution_count": 27,
     "metadata": {},
     "output_type": "execute_result"
    }
   ],
   "source": [
    "# append\n",
    "lst.append(\"Mango\")  # we add mango in list using append it always add at end of list\n",
    "lst"
   ]
  },
  {
   "cell_type": "code",
   "execution_count": 28,
   "id": "39627fa7-7300-4c51-8c30-a51fad81cf48",
   "metadata": {},
   "outputs": [
    {
     "data": {
      "text/plain": [
       "['Banana', 'Apple', 'Mango']"
      ]
     },
     "execution_count": 28,
     "metadata": {},
     "output_type": "execute_result"
    }
   ],
   "source": [
    "# insert()\n",
    "lst.insert(1,'Apple') # we add Apple at specified location\n",
    "lst"
   ]
  },
  {
   "cell_type": "code",
   "execution_count": 29,
   "id": "c37ced93-7bc2-4e21-915c-27d0b5450db9",
   "metadata": {},
   "outputs": [
    {
     "data": {
      "text/plain": [
       "['Banana', 'Apple', 'Mango', 'Guava', 'PineApple', 'Rose']"
      ]
     },
     "execution_count": 29,
     "metadata": {},
     "output_type": "execute_result"
    }
   ],
   "source": [
    "# extend()  \n",
    "fruits=['Guava', 'PineApple', 'Rose']\n",
    "lst.extend(fruits)  # add each element from fruits as a seprate value in lst\n",
    "lst"
   ]
  },
  {
   "cell_type": "markdown",
   "id": "6e3d8bb2-25c3-41b9-b144-1315b76641d6",
   "metadata": {},
   "source": [
    "## 7. What is the key difference between a list and a tuple?\n",
    "- The key difference between list and tuple\n",
    "- list is mutable datatypes while tuple in immutable datatypes. ( Mutable means we can change the value)\n",
    "- list has dynamic size while tuple has fixed size.  that means according to data manupulation technique tuple size if fiexed but list can change its size."
   ]
  },
  {
   "cell_type": "markdown",
   "id": "22c08028-d9ec-4a5a-a542-60577a21a7e3",
   "metadata": {},
   "source": [
    "## 8. How does a Python dictionary store data and how can you access its values?\n",
    "- Python dictionary store data as key:value pair.\n",
    "- Each key must be unique in dictionary.\n",
    "- To access the value of dictionary we use key."
   ]
  },
  {
   "cell_type": "code",
   "execution_count": 30,
   "id": "b40a3057-c6c0-4660-9c82-122d5de41acb",
   "metadata": {},
   "outputs": [
    {
     "data": {
      "text/plain": [
       "'Roshan'"
      ]
     },
     "execution_count": 30,
     "metadata": {},
     "output_type": "execute_result"
    }
   ],
   "source": [
    "dict = {'Name':'Roshan', 'Age':25}  #we store as key:value pair\n",
    "dict['Name']  #access value of dictionary    "
   ]
  },
  {
   "cell_type": "markdown",
   "id": "87808bbf-556d-4bbc-86b6-2feb12b1afd1",
   "metadata": {},
   "source": [
    "## 9. What are sets in Python and how are they different from lists?\n",
    "- Set is data sturucture is python.\n",
    "- The main difference between set and list is set can't store duplicate value while list can.\n",
    "- list is unorderd/unindexed data stureture while list is ordered/indexed data structure"
   ]
  },
  {
   "cell_type": "markdown",
   "id": "9a05f3bb-28a3-4645-96c7-f43c9dd9596e",
   "metadata": {},
   "source": [
    "## 10. Explain the structure and purpose of conditional statements (if, elif, else) in Python.\n",
    "- Conditional statements in python are used to get specific output based on certain conditoins\n",
    "- Only one statement execute in if..elif..else block.\n",
    "- There are 3 types of conditional statement in pythos.\n",
    "  - if\n",
    "  - elif\n",
    "  - else\n",
    "- if statement\n",
    "  - There is only one if statement in if..elif..else block\n",
    "  - if the condition inside if is true then it execute if block\n",
    "- elif statement\n",
    "  - If 'if' condition is false then it goes to 'elif' statement if present.\n",
    "  - the condition of 'elfi' is true then extecute that block of code.\n",
    "- else statement\n",
    "  - if neither if nor elif condition true then else block execute."
   ]
  },
  {
   "cell_type": "code",
   "execution_count": 31,
   "id": "470051a4-693b-4420-9b06-e5ab8cc01cf9",
   "metadata": {},
   "outputs": [
    {
     "name": "stdout",
     "output_type": "stream",
     "text": [
      "Number is positive\n"
     ]
    }
   ],
   "source": [
    "number = 12\n",
    "if number > 0:\n",
    "    print('Number is positive')\n",
    "elif number < 0:\n",
    "    print('Number is Negative')\n",
    "else:\n",
    "    print('Number is Zero')\n",
    "\n",
    "### in above code...the first it condtion check if number is greater than zero..if condition is true it goes to that 'if' block\n",
    "### if the first condition is false then it goes to second condition there check if number is less than zero..if condition is true execute that 'if' block code\n",
    "### and if the second condition also false then it execute else blocl of code\n",
    "\n",
    "# NOTE :- Only on block of code executed...it don't exicuted all\n",
    "# whichever condition is true first...that block executed"
   ]
  },
  {
   "cell_type": "markdown",
   "id": "40a2292b-bfde-4937-bfa7-a7a5dacb4d8f",
   "metadata": {},
   "source": [
    "# * PRACTICAL QUESTIONS *"
   ]
  },
  {
   "cell_type": "markdown",
   "id": "ba14d015-9fba-4cdb-b6f7-336b8474abbc",
   "metadata": {},
   "source": [
    "## 1. Declare variables of different types (int, float, str, bool) and print their types"
   ]
  },
  {
   "cell_type": "code",
   "execution_count": 32,
   "id": "a83472f6-0bdf-42c5-a676-428cb3971162",
   "metadata": {},
   "outputs": [
    {
     "name": "stdout",
     "output_type": "stream",
     "text": [
      "Datatype of a variable is <class 'int'>\n",
      "Datatype of b variable is <class 'str'>\n",
      "Datatype of c variable is <class 'float'>\n",
      "Datatype of d variable is <class 'bool'>\n"
     ]
    }
   ],
   "source": [
    "a = 12\n",
    "b = 'hello'\n",
    "c = 12.3\n",
    "d = True\n",
    "print(f'Datatype of a variable is {type(a)}')\n",
    "print(f'Datatype of b variable is {type(b)}')\n",
    "print(f'Datatype of c variable is {type(c)}')\n",
    "print(f'Datatype of d variable is {type(d)}')"
   ]
  },
  {
   "cell_type": "markdown",
   "id": "fd118513-3584-4804-b908-fc31e838ed1e",
   "metadata": {},
   "source": [
    "## 2. Write a Python program to take a user's name and age and print a greeting message."
   ]
  },
  {
   "cell_type": "code",
   "execution_count": 33,
   "id": "bb185c64-1dd8-43db-8fbc-2ab66891153e",
   "metadata": {},
   "outputs": [
    {
     "name": "stdin",
     "output_type": "stream",
     "text": [
      "Enter your name:  Roshan\n",
      "Enter Your Age:  24\n"
     ]
    },
    {
     "name": "stdout",
     "output_type": "stream",
     "text": [
      "Hello Roshan ! \n"
     ]
    }
   ],
   "source": [
    "name = input(\"Enter your name: \")\n",
    "age = input(\"Enter Your Age: \")\n",
    "print(f'Hello {name} ! ')"
   ]
  },
  {
   "cell_type": "markdown",
   "id": "5f63084f-27d5-4d81-836e-8b2acf70156d",
   "metadata": {},
   "source": [
    "## 3. Perform addition, subtraction, multiplication, and division on two user-entered numbers."
   ]
  },
  {
   "cell_type": "code",
   "execution_count": 34,
   "id": "48a2a4d8-802e-4dd2-a76f-1a9aaacf2838",
   "metadata": {},
   "outputs": [
    {
     "name": "stdin",
     "output_type": "stream",
     "text": [
      "Enter first number :  34\n",
      "Enter second number :  43\n"
     ]
    },
    {
     "name": "stdout",
     "output_type": "stream",
     "text": [
      "Addition is 77\n",
      "Substraction is -9\n",
      "Mulitplication is 1462\n",
      "Division is 0.7906976744186046\n"
     ]
    }
   ],
   "source": [
    "first_no = int(input(\"Enter first number : \"))\n",
    "second_no = int(input(\"Enter second number : \"))\n",
    "print(f'Addition is {first_no + second_no}')\n",
    "print(f'Substraction is {first_no - second_no}')\n",
    "print(f'Mulitplication is {first_no * second_no}')\n",
    "print(f'Division is {first_no / second_no}')"
   ]
  },
  {
   "cell_type": "markdown",
   "id": "0f4e39a9-29d5-497f-9c2d-893d88d8ba51",
   "metadata": {},
   "source": [
    "## 4. Take a string as input and print only the first 3 characters.\n"
   ]
  },
  {
   "cell_type": "code",
   "execution_count": 35,
   "id": "0161867d-d4ed-4eb4-8345-1c0363162bce",
   "metadata": {},
   "outputs": [
    {
     "name": "stdin",
     "output_type": "stream",
     "text": [
      "Enter string :  HII THERE!\n"
     ]
    },
    {
     "name": "stdout",
     "output_type": "stream",
     "text": [
      "HII\n"
     ]
    }
   ],
   "source": [
    "txt = input(\"Enter string : \")\n",
    "print(txt[:3]) # using string slicing we get first 3 character"
   ]
  },
  {
   "cell_type": "markdown",
   "id": "1349546f-7a02-401f-a8ce-c2801380ded1",
   "metadata": {},
   "source": [
    "## 5. Slice a string \"PythonProgramming\" to display thonPro."
   ]
  },
  {
   "cell_type": "code",
   "execution_count": 36,
   "id": "66610382-23e3-4da2-bf7e-6b31de6784c2",
   "metadata": {},
   "outputs": [
    {
     "data": {
      "text/plain": [
       "'thonPro'"
      ]
     },
     "execution_count": 36,
     "metadata": {},
     "output_type": "execute_result"
    }
   ],
   "source": [
    "txt= \"PythonProgramming\"\n",
    "txt[2:9]"
   ]
  },
  {
   "cell_type": "markdown",
   "id": "ffabacb2-439f-4319-97de-7570df90433a",
   "metadata": {},
   "source": [
    "## 6. Create a list of 5 numbers and display the sum and average."
   ]
  },
  {
   "cell_type": "code",
   "execution_count": 38,
   "id": "c39dab0a-b408-4369-bb69-5b99786fb26a",
   "metadata": {},
   "outputs": [
    {
     "name": "stdout",
     "output_type": "stream",
     "text": [
      "Sum of 5 Numbers in list is 359\n",
      "and Average of list is 71.8\n"
     ]
    }
   ],
   "source": [
    "lst = [12,12,321,12,2]\n",
    "sum = 0\n",
    "for i in lst:\n",
    "    sum+=i\n",
    "print(f'''Sum of 5 Numbers in list is {sum}\n",
    "and Average of list is {sum/5}''')"
   ]
  },
  {
   "cell_type": "markdown",
   "id": "78890965-ecca-48da-bc22-a0e1a0d45003",
   "metadata": {},
   "source": [
    "## 7. Append an element to a list and remove one using remove()."
   ]
  },
  {
   "cell_type": "code",
   "execution_count": 39,
   "id": "29afb5a7-b471-48c9-89f7-476b1b255957",
   "metadata": {},
   "outputs": [
    {
     "name": "stdout",
     "output_type": "stream",
     "text": [
      "After appending 1000 : [12, 32, 43, 1000]\n",
      "After Removing 1000 : [12, 32, 43]\n"
     ]
    }
   ],
   "source": [
    "lst=[12,32,43]\n",
    "#add elemnet \n",
    "lst.append(1000)\n",
    "print(f'After appending 1000 : {lst}')\n",
    "lst.remove(1000)\n",
    "print(f'After Removing 1000 : {lst}')"
   ]
  },
  {
   "cell_type": "markdown",
   "id": "d41d9465-699a-4928-80dd-05bbdbe82bf1",
   "metadata": {},
   "source": [
    "## 8. Create a tuple of five items and print the third item."
   ]
  },
  {
   "cell_type": "code",
   "execution_count": 41,
   "id": "f74cd05b-730e-4237-b0ec-17d0acb0f0f8",
   "metadata": {},
   "outputs": [
    {
     "name": "stdout",
     "output_type": "stream",
     "text": [
      "True\n"
     ]
    }
   ],
   "source": [
    "t = (12, 12.3 , True, 'helo', 4)\n",
    "print(t[2]) #third item at index 2"
   ]
  },
  {
   "cell_type": "markdown",
   "id": "0fa14c99-103f-4144-b3c9-e8d7c20ee6c1",
   "metadata": {},
   "source": [
    "## 9. Create a dictionary with keys as fruit names and values as their prices. Access the price of one fruit."
   ]
  },
  {
   "cell_type": "code",
   "execution_count": 47,
   "id": "fae2790a-83e7-4098-9556-94b622abe44e",
   "metadata": {},
   "outputs": [
    {
     "name": "stdout",
     "output_type": "stream",
     "text": [
      "Prices of Banana is 50\n"
     ]
    }
   ],
   "source": [
    "dict = {'Banana':50, 'Mango':100, 'Apple':75}\n",
    "print(f'Prices of Banana is {dict[\"Banana\"]}')"
   ]
  },
  {
   "cell_type": "markdown",
   "id": "863fd530-a996-4417-893c-ac194b8eb081",
   "metadata": {},
   "source": [
    "## 10. Create a set of 5 elements and demonstrate add() and remove() operations."
   ]
  },
  {
   "cell_type": "code",
   "execution_count": 50,
   "id": "2ad88b8b-ee44-4d8f-a6f1-bd98eb49cbbd",
   "metadata": {},
   "outputs": [
    {
     "name": "stdout",
     "output_type": "stream",
     "text": [
      "After adding 100 in set s :  {33, 2, 18, 100, 23, 12}\n",
      "After Removing 12 in set s :  {33, 2, 18, 100, 23}\n"
     ]
    }
   ],
   "source": [
    "s = {12,33,23,2,18}\n",
    "# add elements\n",
    "s.add(100)\n",
    "print(\"After adding 100 in set s : \", s)\n",
    "s.remove(12)\n",
    "print(\"After Removing 12 in set s : \",s)"
   ]
  },
  {
   "cell_type": "markdown",
   "id": "8d92d335-f530-41b5-90f6-d0536e13f9f5",
   "metadata": {},
   "source": [
    "## 11. Write a program to check if the number entered by the user is positive, negative, or zero."
   ]
  },
  {
   "cell_type": "code",
   "execution_count": 51,
   "id": "da5e6f28-4bc2-4ba4-a17c-f050b2efa5ad",
   "metadata": {},
   "outputs": [
    {
     "name": "stdout",
     "output_type": "stream",
     "text": [
      "Number is positive\n"
     ]
    }
   ],
   "source": [
    "number = 12\n",
    "if number > 0:\n",
    "    print('Number is positive')\n",
    "elif number < 0:\n",
    "    print('Number is Negative')\n",
    "else:\n",
    "    print('Number is Zero')\n",
    "\n",
    "### in above code...the first it condtion check if number is greater than zero..if condition is true it goes to that 'if' block\n",
    "### if the first condition is false then it goes to second condition there check if number is less than zero..if condition is true execute that 'if' block code\n",
    "### and if the second condition also false then it execute else blocl of code\n",
    "\n",
    "# NOTE :- Only on block of code executed...it don't exicuted all\n",
    "# whichever condition is true first...that block executed"
   ]
  },
  {
   "cell_type": "markdown",
   "id": "95666e19-6991-4130-bc1d-5b44538aa674",
   "metadata": {},
   "source": [
    "## 12. Write a program to check whether a number is even or odd.\n"
   ]
  },
  {
   "cell_type": "code",
   "execution_count": 54,
   "id": "3c80d020-ce0e-43a6-9a2b-77c021b21e9d",
   "metadata": {},
   "outputs": [
    {
     "name": "stdin",
     "output_type": "stream",
     "text": [
      "Enter a Number :  23\n"
     ]
    },
    {
     "name": "stdout",
     "output_type": "stream",
     "text": [
      "23 is odd\n"
     ]
    }
   ],
   "source": [
    "no = int(input(\"Enter a Number : \"))\n",
    "if no%2==0:\n",
    "    print(f'{no} is even')\n",
    "else:\n",
    "    print(f'{no} is odd')"
   ]
  },
  {
   "cell_type": "markdown",
   "id": "6149c1a1-368e-4d43-a28b-7613b1129c32",
   "metadata": {},
   "source": [
    "## 13. Take a sentence as input and count the number of words in it."
   ]
  },
  {
   "cell_type": "code",
   "execution_count": 59,
   "id": "4da3b03d-fad5-4057-b92c-ddf1de87b03e",
   "metadata": {},
   "outputs": [
    {
     "name": "stdin",
     "output_type": "stream",
     "text": [
      "Enter a sentence:  Hi there! How are You?\n"
     ]
    },
    {
     "name": "stdout",
     "output_type": "stream",
     "text": [
      "Total words in txt is  5\n"
     ]
    }
   ],
   "source": [
    "txt = input(\"Enter a sentence: \")\n",
    "lst=txt.split() #bydefault based on space it split\n",
    "words = 0\n",
    "for i in lst:\n",
    "    words+=1\n",
    "print(\"Total words in txt is \",words)"
   ]
  },
  {
   "cell_type": "markdown",
   "id": "9e356cee-fab9-4726-9f9a-332541d008f0",
   "metadata": {},
   "source": [
    "## 14. Convert a string to uppercase and lowercase."
   ]
  },
  {
   "cell_type": "code",
   "execution_count": 60,
   "id": "6cff5a43-f8e0-467e-bb07-5b18c0aa8391",
   "metadata": {},
   "outputs": [
    {
     "name": "stdout",
     "output_type": "stream",
     "text": [
      "Uppercase:  ROSHAN DHEMBARE\n",
      "Lowercase:  roshan dhembare\n"
     ]
    }
   ],
   "source": [
    "name=\"Roshan Dhembare\"\n",
    "print(\"Uppercase: \",name.upper())\n",
    "print(\"Lowercase: \",name.lower())"
   ]
  },
  {
   "cell_type": "markdown",
   "id": "6d65081a-c88b-4369-a84d-ecbd54abbb67",
   "metadata": {},
   "source": [
    "## 15. Write a program to take a list of numbers from the user and print only the even numbers.\n"
   ]
  },
  {
   "cell_type": "code",
   "execution_count": 63,
   "id": "98c8dba1-314b-4270-950f-f6199bdb4b08",
   "metadata": {},
   "outputs": [
    {
     "name": "stdin",
     "output_type": "stream",
     "text": [
      "Enter a Number:  23\n",
      "Enter a Number:  43\n",
      "Enter a Number:  1\n",
      "Enter a Number:  45\n",
      "Enter a Number:  44\n"
     ]
    },
    {
     "name": "stdout",
     "output_type": "stream",
     "text": [
      "Even Numbers :  [44]\n"
     ]
    }
   ],
   "source": [
    "# we take only 5 numbers from user\n",
    "even=[]\n",
    "for i in range(5):\n",
    "    n = int(input(\"Enter a Number: \"))\n",
    "    if n%2==0:\n",
    "        even.append(n)\n",
    "print(\"Even Numbers : \",even)"
   ]
  },
  {
   "cell_type": "code",
   "execution_count": null,
   "id": "727465e4-7720-4a96-9698-aa0d67ed42f3",
   "metadata": {},
   "outputs": [],
   "source": []
  }
 ],
 "metadata": {
  "kernelspec": {
   "display_name": "Python 3 (ipykernel)",
   "language": "python",
   "name": "python3"
  },
  "language_info": {
   "codemirror_mode": {
    "name": "ipython",
    "version": 3
   },
   "file_extension": ".py",
   "mimetype": "text/x-python",
   "name": "python",
   "nbconvert_exporter": "python",
   "pygments_lexer": "ipython3",
   "version": "3.11.7"
  }
 },
 "nbformat": 4,
 "nbformat_minor": 5
}
